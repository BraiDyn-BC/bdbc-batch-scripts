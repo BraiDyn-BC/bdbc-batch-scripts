{
 "cells": [
  {
   "cell_type": "markdown",
   "metadata": {},
   "source": [
    "\"Sanity check\" of the resulting NWB files through visual inspection:\n",
    "\n",
    "- check if there are unexpectedly many NaNs or zeros in the time series\n",
    "- check if there are any \"outlier\" sessions within an animal\n",
    "\n",
    "### Assumptions\n",
    "\n",
    "- the `source_root` folder contains \"animal folders\".\n",
    "- all the NWB files of each animal can be found inside its animal folder\n",
    "  (the exact structure within does not matter)."
   ]
  },
  {
   "cell_type": "code",
   "execution_count": null,
   "metadata": {},
   "outputs": [],
   "source": [
    "import os\n",
    "from pathlib import Path\n",
    "\n",
    "import bdbc_nwb_tools as nwbtools\n",
    "import sanity_check_nwb"
   ]
  },
  {
   "cell_type": "code",
   "execution_count": null,
   "metadata": {},
   "outputs": [],
   "source": [
    "source_root = \"path-to-nwb-root-folder\"\n",
    "output_root = \"path-to-output-root-folder\"  # where the output figures will be stored\n",
    "assert os.path.exists(source_root)"
   ]
  },
  {
   "cell_type": "code",
   "execution_count": null,
   "metadata": {},
   "outputs": [],
   "source": [
    "# find all folders in root\n",
    "source_folders = sorted([d for d in os.listdir(source_root) if os.path.isdir(os.path.join(source_root, d))], key=lambda ID: int(ID.replace('VG1GC-', '')))\n",
    "\n",
    "# filter out those with complete sets of figures\n",
    "folders_done = []\n",
    "if os.path.exists(output_root):\n",
    "    for d in os.listdir(output_root):\n",
    "        if os.path.isdir(os.path.join(output_root, d)) and os.path.exists(os.path.join(output_root, d, 'COMPLETE')):\n",
    "            folders_done.append(d)\n",
    "folders = [f for f in source_folders if f not in folders_done]\n",
    "print(folders)"
   ]
  },
  {
   "cell_type": "code",
   "execution_count": null,
   "metadata": {},
   "outputs": [],
   "source": [
    "for folder in folders:\n",
    "    print(f\"processing {folder}...\")\n",
    "    folder_path = os.path.join(source_root, folder)\n",
    "    output_folder = os.path.join(output_root, folder)\n",
    "    complete_tag = os.path.join(output_root, folder, 'COMPLETE')\n",
    "    try:\n",
    "        sanity_check_nwb.plot_summary_within_animal(folder_path, output_folder=output_folder)\n",
    "        with open(complete_tag, 'wb') as out:\n",
    "            pass\n",
    "    except:\n",
    "        if os.path.exists(complete_tag):\n",
    "            os.remove(complete_tag)\n",
    "        raise"
   ]
  }
 ],
 "metadata": {
  "kernelspec": {
   "display_name": "Python 3 (ipykernel)",
   "language": "python",
   "name": "python3"
  },
  "language_info": {
   "codemirror_mode": {
    "name": "ipython",
    "version": 3
   },
   "file_extension": ".py",
   "mimetype": "text/x-python",
   "name": "python",
   "nbconvert_exporter": "python",
   "pygments_lexer": "ipython3",
   "version": "3.10.14"
  }
 },
 "nbformat": 4,
 "nbformat_minor": 4
}
